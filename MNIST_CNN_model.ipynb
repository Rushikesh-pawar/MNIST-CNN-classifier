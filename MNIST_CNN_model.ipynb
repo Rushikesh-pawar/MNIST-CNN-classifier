{
 "cells": [
  {
   "cell_type": "code",
   "execution_count": 52,
   "id": "8d4d13d4",
   "metadata": {},
   "outputs": [
    {
     "name": "stdout",
     "output_type": "stream",
     "text": [
      "(60000, 28, 28)\n"
     ]
    }
   ],
   "source": [
    "#import dataset\n",
    "from keras.datasets import mnist\n",
    "\n",
    "#load the MNIST dataset\n",
    "(x_train,y_train), (x_test,y_test) = mnist.load_data()\n",
    "\n",
    "print(x_train.shape)"
   ]
  },
  {
   "cell_type": "code",
   "execution_count": 53,
   "id": "ec50eb51",
   "metadata": {},
   "outputs": [
    {
     "data": {
      "image/png": "[encoded data removed]",
      "text/plain": [
       "<Figure size 432x288 with 6 Axes>"
      ]
     },
     "metadata": {
      "needs_background": "light"
     },
     "output_type": "display_data"
    }
   ],
   "source": [
    "#visualize our data\n",
    "\n",
    "import numpy as np\n",
    "import matplotlib.pyplot as plt\n",
    "\n",
    "plt.subplot(331)\n",
    "random_number = np.random.randint(0,len(x_train))\n",
    "plt.imshow(x_train[random_number], cmap=plt.get_cmap('gray'))\n",
    "\n",
    "plt.subplot(332)\n",
    "random_number = np.random.randint(0,len(x_train))\n",
    "plt.imshow(x_train[random_number], cmap=plt.get_cmap('gray'))\n",
    "\n",
    "plt.subplot(333)\n",
    "random_number = np.random.randint(0,len(x_train))\n",
    "plt.imshow(x_train[random_number], cmap=plt.get_cmap('gray'))\n",
    "\n",
    "plt.subplot(334)\n",
    "random_number = np.random.randint(0,len(x_train))\n",
    "plt.imshow(x_train[random_number], cmap=plt.get_cmap('gray'))\n",
    "\n",
    "plt.subplot(335)\n",
    "random_number = np.random.randint(0,len(x_train))\n",
    "plt.imshow(x_train[random_number], cmap=plt.get_cmap('gray'))\n",
    "\n",
    "plt.subplot(336)\n",
    "random_number = np.random.randint(0,len(x_train))\n",
    "plt.imshow(x_train[random_number], cmap=plt.get_cmap('gray'))\n",
    "\n",
    "plt.show()"
   ]
  },
  {
   "cell_type": "code",
   "execution_count": 54,
   "id": "d81b0392",
   "metadata": {},
   "outputs": [
    {
     "name": "stdout",
     "output_type": "stream",
     "text": [
      "x_train shape: (60000,)\n"
     ]
    }
   ],
   "source": [
    "#preparing Dataset for training\n",
    "#store number of rows and columns\n",
    "\n",
    "img_rows = x_train[0].shape[0]\n",
    "img_cols = x_train[1].shape[0]\n",
    "\n",
    "#we need our data to be in right shape for keras. \n",
    "#We need to add 4th dimension to our data so we can convert (60000, 28,28) to (60000,28,28,1)\n",
    "x_train = x_train.reshape(x_train.shape[0], img_rows, img_cols, 1)\n",
    "x_test  = x_test.reshape(x_test.shape[0], img_rows, img_cols,1)\n",
    "\n",
    "#store the shape of a single image\n",
    "input_shape = (img_rows, img_cols, 1) \n",
    "\n",
    "#change our image type to float32 type for keras\n",
    "x_train = x_train.astype(\"float32\")\n",
    "x_test = x_test.astype(\"float32\")\n",
    "\n",
    "#normalize our data by changing the range from (0-255) to (0-1)\n",
    "\n",
    "x_train /= 255\n",
    "x_test /= 255\n",
    "\n",
    "print(\"x_train shape:\", y_train.shape)\n"
   ]
  },
  {
   "cell_type": "code",
   "execution_count": 55,
   "id": "e1a21b1f",
   "metadata": {},
   "outputs": [
    {
     "name": "stdout",
     "output_type": "stream",
     "text": [
      "number of classes10\n",
      "(10000, 10)\n"
     ]
    }
   ],
   "source": [
    "#do hot one encoding\n",
    "\n",
    "from keras.utils import np_utils\n",
    "\n",
    "y_train = np_utils.to_categorical(y_train)\n",
    "y_test = np_utils.to_categorical(y_test)\n",
    "\n",
    "\n",
    "#check the number of columns in hot one encoding matrix\n",
    "\n",
    "print(\"number of classes\" + str(y_test.shape[1]))\n",
    "\n",
    "num_classes = y_test.shape[1]\n",
    "num_pixels = x_train.shape[1] * x_train.shape[2] \n",
    "print(y_test.shape)\n",
    "\n"
   ]
  },
  {
   "cell_type": "code",
   "execution_count": 56,
   "id": "db21a731",
   "metadata": {},
   "outputs": [
    {
     "name": "stdout",
     "output_type": "stream",
     "text": [
      "Model: \"sequential_9\"\n",
      "_________________________________________________________________\n",
      " Layer (type)                Output Shape              Param #   \n",
      "=================================================================\n",
      " conv2d_15 (Conv2D)          (None, 26, 26, 32)        320       \n",
      "                                                                 \n",
      " conv2d_16 (Conv2D)          (None, 24, 24, 64)        18496     \n",
      "                                                                 \n",
      " max_pooling2d_9 (MaxPooling  (None, 12, 12, 64)       0         \n",
      " 2D)                                                             \n",
      "                                                                 \n",
      " dropout_18 (Dropout)        (None, 12, 12, 64)        0         \n",
      "                                                                 \n",
      " flatten_9 (Flatten)         (None, 9216)              0         \n",
      "                                                                 \n",
      " dense_18 (Dense)            (None, 128)               1179776   \n",
      "                                                                 \n",
      " dropout_19 (Dropout)        (None, 128)               0         \n",
      "                                                                 \n",
      " dense_19 (Dense)            (None, 10)                1290      \n",
      "                                                                 \n",
      "=================================================================\n",
      "Total params: 1,199,882\n",
      "Trainable params: 1,199,882\n",
      "Non-trainable params: 0\n",
      "_________________________________________________________________\n",
      "None\n"
     ]
    }
   ],
   "source": [
    "#build and compile model\n",
    "\n",
    "import keras\n",
    "from keras.models import Sequential\n",
    "from keras.layers import Dense, Dropout, Flatten\n",
    "from keras.layers import Conv2D, MaxPooling2D\n",
    "from keras import backend as K\n",
    "from tensorflow.keras.optimizers import SGD\n",
    "\n",
    "#create model\n",
    "model = Sequential()\n",
    "\n",
    "model.add(Conv2D(32, kernel_size=(3,3), activation='relu',input_shape=input_shape))\n",
    "model.add(Conv2D(64, kernel_size=(3,3), activation='relu'))\n",
    "model.add(MaxPooling2D(pool_size=(2,2)))\n",
    "model.add(Dropout(0.25))\n",
    "model.add(Flatten())\n",
    "model.add(Dense(128,activation='relu'))\n",
    "model.add(Dropout(0.50))\n",
    "model.add(Dense(num_classes, activation='softmax'))\n",
    "\n",
    "model.compile(loss='categorical_crossentropy',optimizer=SGD(0.01), metrics=['accuracy'])\n",
    "\n",
    "print(model.summary())"
   ]
  },
  {
   "cell_type": "code",
   "execution_count": 65,
   "id": "80b2f4db",
   "metadata": {},
   "outputs": [
    {
     "name": "stdout",
     "output_type": "stream",
     "text": [
      "Epoch 1/10\n",
      "1875/1875 [==============================] - 97s 52ms/step - loss: 0.1467 - accuracy: 0.9563 - val_loss: 0.0712 - val_accuracy: 0.9780\n",
      "Epoch 2/10\n",
      "1875/1875 [==============================] - 91s 49ms/step - loss: 0.1259 - accuracy: 0.9618 - val_loss: 0.0634 - val_accuracy: 0.9804\n",
      "Epoch 3/10\n",
      "1875/1875 [==============================] - 97s 52ms/step - loss: 0.1119 - accuracy: 0.9663 - val_loss: 0.0552 - val_accuracy: 0.9831\n",
      "Epoch 4/10\n",
      "1875/1875 [==============================] - 91s 49ms/step - loss: 0.1008 - accuracy: 0.9699 - val_loss: 0.0497 - val_accuracy: 0.9830\n",
      "Epoch 5/10\n",
      "1875/1875 [==============================] - 94s 50ms/step - loss: 0.0932 - accuracy: 0.9719 - val_loss: 0.0480 - val_accuracy: 0.9846\n",
      "Epoch 6/10\n",
      "1875/1875 [==============================] - 96s 51ms/step - loss: 0.0875 - accuracy: 0.9737 - val_loss: 0.0438 - val_accuracy: 0.9850\n",
      "Epoch 7/10\n",
      "1875/1875 [==============================] - 102s 54ms/step - loss: 0.0812 - accuracy: 0.9753 - val_loss: 0.0431 - val_accuracy: 0.9866\n",
      "Epoch 8/10\n",
      "1875/1875 [==============================] - 103s 55ms/step - loss: 0.0750 - accuracy: 0.9776 - val_loss: 0.0443 - val_accuracy: 0.9849\n",
      "Epoch 9/10\n",
      "1875/1875 [==============================] - 100s 53ms/step - loss: 0.0719 - accuracy: 0.9785 - val_loss: 0.0399 - val_accuracy: 0.9868\n",
      "Epoch 10/10\n",
      "1875/1875 [==============================] - 93s 49ms/step - loss: 0.0677 - accuracy: 0.9795 - val_loss: 0.0371 - val_accuracy: 0.9865\n",
      "Test loss: 0.037078868597745895\n",
      "Test accuracy: 0.9865000247955322\n"
     ]
    }
   ],
   "source": [
    "#train the model\n",
    "\n",
    "batch_size = 32\n",
    "epochs = 10\n",
    "\n",
    "history = model.fit(x_train, y_train, \n",
    "                    epochs=epochs, \n",
    "                    batch_size=batch_size, \n",
    "                    verbose = 1, \n",
    "                    validation_data = (x_test,y_test))\n",
    "\n",
    "score = model.evaluate(x_test,y_test, verbose=0)\n",
    "print(\"Test loss: \" + str(score[0]))\n",
    "print(\"Test accuracy: \"+ str(score[1]))"
   ]
  },
  {
   "cell_type": "code",
   "execution_count": 69,
   "id": "25cfcb1a",
   "metadata": {},
   "outputs": [
    {
     "data": {
      "image/png": "[encoded data removed]",
      "text/plain": [
       "<Figure size 432x288 with 1 Axes>"
      ]
     },
     "metadata": {
      "needs_background": "light"
     },
     "output_type": "display_data"
    }
   ],
   "source": [
    "#plotting loss \n",
    "\n",
    "import matplotlib.pyplot as plt\n",
    "\n",
    "history_dict = history.history\n",
    "\n",
    "loss_values = history_dict['loss']\n",
    "val_loss_values = history_dict['val_loss']\n",
    "epochs = range(1, len(loss_values)+1)\n",
    "\n",
    "line1 = plt.plot(epochs, val_loss_values, label='Validation/Test loss')\n",
    "line2 = plt.plot(epochs, loss_values, label=\"Training loss\")\n",
    "plt.setp(line1, linewidth=2.0, marker= '+',markersize=10.0)\n",
    "plt.setp(line2, linewidth=2.0, marker= '4',markersize=10.0)\n",
    "plt.xlabel('epochs')\n",
    "plt.ylabel(\"loss\")\n",
    "plt.grid(True)\n",
    "plt.legend()\n",
    "plt.show()"
   ]
  },
  {
   "cell_type": "code",
   "execution_count": 76,
   "id": "f447bb3e",
   "metadata": {},
   "outputs": [
    {
     "data": {
      "image/png": "[encoded data removed]",
      "text/plain": [
       "<Figure size 432x288 with 1 Axes>"
      ]
     },
     "metadata": {
      "needs_background": "light"
     },
     "output_type": "display_data"
    }
   ],
   "source": [
    "#plotting accuracy \n",
    "\n",
    "import matplotlib.pyplot as plt\n",
    "\n",
    "history_dict = history.history\n",
    "\n",
    "acc_values = history_dict['accuracy']\n",
    "val_acc_values = history_dict['val_accuracy']\n",
    "epochs = range(1, len(loss_values)+1)\n",
    "\n",
    "line1 = plt.plot(epochs, val_acc_values, label='Validation/Test accuracy')\n",
    "line2 = plt.plot(epochs, acc_values, label=\"Training accuracy\")\n",
    "plt.setp(line1, linewidth=2.0, marker= '+',markersize=10.0)\n",
    "plt.setp(line2, linewidth=2.0, marker= '4',markersize=10.0)\n",
    "plt.xlabel('epochs')\n",
    "plt.ylabel(\"accuracy\")\n",
    "plt.grid(True)\n",
    "plt.legend()\n",
    "plt.show()"
   ]
  },
  {
   "cell_type": "code",
   "execution_count": 92,
   "id": "645aeb06",
   "metadata": {},
   "outputs": [],
   "source": [
    "predict_x=model.predict(x_test) \n",
    "predict_classes=np.argmax(predict_x,axis=1)"
   ]
  },
  {
   "cell_type": "code",
   "execution_count": 77,
   "id": "f96dddb0",
   "metadata": {},
   "outputs": [],
   "source": [
    "#save the model\n",
    "\n",
    "model.save(\"E:/ML Projects/Computer vision R_27.07.21/MNIST classification project/MNIST_CNN_model.h5\")"
   ]
  },
  {
   "cell_type": "code",
   "execution_count": 78,
   "id": "98ec8206",
   "metadata": {},
   "outputs": [],
   "source": [
    "#load our model\n",
    "\n",
    "from keras.models import load_model\n",
    "\n",
    "classifier = load_model(\"E:/ML Projects/Computer vision R_27.07.21/MNIST classification project/MNIST_CNN_model.h5\")"
   ]
  },
  {
   "cell_type": "code",
   "execution_count": 100,
   "id": "c5c5e338",
   "metadata": {},
   "outputs": [],
   "source": [
    "import cv2\n",
    "import numpy as np\n",
    "\n",
    "def draw_test(name, pred, input_in):\n",
    "    BLACK = [0,0,0]\n",
    "    expanded_image = cv2.copyMakeBorder(input_in,0,0,0,imageL.shape[0],cv2.BORDER_CONSTANT,value=BLACK)\n",
    "    expanded_image = cv2.cvtColor(expanded_image, cv2.COLOR_GRAY2BGR)\n",
    "    cv2.putText(expanded_image, str(pred),(152,70),cv2.FONT_HERSHEY_COMPLEX_SMALL,4,(0,255,0),2)\n",
    "    cv2.imshow(name,expanded_image)\n",
    "\n",
    "for i in range(0,10):\n",
    "    rand = np.random.randint(0,len(x_test))\n",
    "    input_im = x_test[rand]\n",
    "    \n",
    "    imageL = cv2.resize(input_im, None, fx=6,fy=4,interpolation=cv2.INTER_CUBIC)\n",
    "    input_im = input_im.reshape(1,28,28,1)\n",
    "    \n",
    "    #get predictions\n",
    "    res = str(np.argmax(model.predict(input_im), axis=-1))\n",
    "    draw_test(\"predictions\",res,imageL)\n",
    "    \n",
    "    cv2.waitKey(0)\n",
    "cv2.destroyAllWindows()\n"
   ]
  },
  {
   "cell_type": "code",
   "execution_count": null,
   "id": "adf8b5fd",
   "metadata": {},
   "outputs": [],
   "source": []
  }
 ],
 "metadata": {
  "kernelspec": {
   "display_name": "Python 3 (ipykernel)",
   "language": "python",
   "name": "python3"
  },
  "language_info": {
   "codemirror_mode": {
    "name": "ipython",
    "version": 3
   },
   "file_extension": ".py",
   "mimetype": "text/x-python",
   "name": "python",
   "nbconvert_exporter": "python",
   "pygments_lexer": "ipython3",
   "version": "3.7.2rc1"
  }
 },
 "nbformat": 4,
 "nbformat_minor": 5
}
